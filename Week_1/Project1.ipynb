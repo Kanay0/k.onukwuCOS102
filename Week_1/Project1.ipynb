{
 "cells": [
  {
   "cell_type": "code",
   "execution_count": 7,
   "id": "b9dffd53-cd48-42e6-b9fd-5883822900c6",
   "metadata": {},
   "outputs": [
    {
     "name": "stdin",
     "output_type": "stream",
     "text": [
      "Type The Rate 5\n",
      "Type The Principal 8\n",
      "Type The Time Given 4\n"
     ]
    },
    {
     "name": "stdout",
     "output_type": "stream",
     "text": [
      "The Amount Is 9.6\n",
      "The Simple Interest Is 1.5999999999999996\n"
     ]
    }
   ],
   "source": [
    "# Python Program To Find The Simple Interest \n",
    "\n",
    "#Input The rate \n",
    "r = int(input(\"Type The Rate\"))\n",
    "# Input The Principal \n",
    "p = int(input(\"Type The Principal\"))\n",
    "# Input The Time \n",
    "t = int(input(\"Type The Time Given\"))\n",
    "#Find The Amount \n",
    "a = p * (1 + ((r/100) * t))\n",
    "print(\"The Amount Is\",a)\n",
    "# Calculate The Simple Interest\n",
    "si = a - p\n",
    "print(\"The Simple Interest Is\",si)"
   ]
  },
  {
   "cell_type": "code",
   "execution_count": 9,
   "id": "d7d864b5-1fc4-4b8f-8eed-6fa87034d862",
   "metadata": {},
   "outputs": [
    {
     "name": "stdin",
     "output_type": "stream",
     "text": [
      "Type In The  Rate 457\n",
      "Type In The Principal 900\n",
      "Type In The Number Of Times 567\n",
      "Type In The Time Given In Years 4\n"
     ]
    },
    {
     "name": "stdout",
     "output_type": "stream",
     "text": [
      "The Amount is 11369484.0\n",
      "The Compound Interest 11368584.0\n"
     ]
    }
   ],
   "source": [
    "r = int(input(\"Type In The  Rate\"))\n",
    "p = int(input(\"Type In The Principal\"))\n",
    "n = int(input(\"Type In The Number Of Times\"))\n",
    "t = int(input(\"Type In The Time Given In Years\"))\n",
    "a = p * ((1 + (r/100)) * (n * t)) \n",
    "print(\"The Amount is\",a)\n",
    "ci = a - p\n",
    "print(\"The Compound Interest\",ci)\n"
   ]
  },
  {
   "cell_type": "code",
   "execution_count": 10,
   "id": "5e7bada7-a733-4eda-9380-3e53773abd08",
   "metadata": {},
   "outputs": [
    {
     "name": "stdin",
     "output_type": "stream",
     "text": [
      "Type In The  Rate 300\n",
      "Type In The Number Of Times 560\n",
      "Type In The Payment Per Period 568\n"
     ]
    },
    {
     "name": "stdout",
     "output_type": "stream",
     "text": [
      "The Annunity Plan is 3646257.0666666664\n"
     ]
    }
   ],
   "source": [
    "r = int(input(\"Type In The  Rate\"))\n",
    "n = int(input(\"Type In The Number Of Times\"))\n",
    "pmt = int(input(\"Type In The Payment Per Period\"))\n",
    "\n",
    "a = pmt * (((1 + (r / n)) * (n * t)) - 1) / (r / n)\n",
    "\n",
    "print(\"The Annunity Plan is\",a)\n"
   ]
  },
  {
   "cell_type": "code",
   "execution_count": null,
   "id": "aacf8fa6-2889-4394-9f44-7256e68c274f",
   "metadata": {},
   "outputs": [],
   "source": []
  }
 ],
 "metadata": {
  "kernelspec": {
   "display_name": "Python 3 (ipykernel)",
   "language": "python",
   "name": "python3"
  },
  "language_info": {
   "codemirror_mode": {
    "name": "ipython",
    "version": 3
   },
   "file_extension": ".py",
   "mimetype": "text/x-python",
   "name": "python",
   "nbconvert_exporter": "python",
   "pygments_lexer": "ipython3",
   "version": "3.11.7"
  }
 },
 "nbformat": 4,
 "nbformat_minor": 5
}
