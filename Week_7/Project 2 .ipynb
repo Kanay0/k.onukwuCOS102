{
 "cells": [
  {
   "cell_type": "code",
   "execution_count": 6,
   "id": "136268a3-5a6e-4284-9aab-54119f8fe967",
   "metadata": {},
   "outputs": [],
   "source": [
    "# PROGRAM TO RECORD THE CADBURY'S PRODUCT RECORDS \n",
    "\n",
    "# Lisening To When I'm Gone - Eminem \n",
    "\n",
    "# Inserting/Importing The Panda Packages \n",
    "\n",
    "import pandas as pd\n",
    "\n",
    "# Define the data of The Company\n",
    "data = {\n",
    "    'Segments': ['Refreshment Beverages', 'Confectionery', 'Intermediate Cocoa Products'],\n",
    "    'Brands': ['CADBURY BOURNVITA, CADBURY 3-in-1 HOT CHOCOLATE', 'TOMTOM CLASSIC, TOMTOM STRAWBERRY, BUTTERMINT', 'COCOA POWDER, COCOA BUTTER'],\n",
    "    'Export': ['No', 'No', 'Yes']\n",
    "}\n",
    "\n",
    "# Create a DataFrame\n",
    "df = pd.DataFrame(data)\n",
    "\n",
    "# Save the DataFrame to a .csv file\n",
    "df.to_csv('cadbury_markets.csv', index=False)\n"
   ]
  },
  {
   "cell_type": "code",
   "execution_count": null,
   "id": "653b060d-f7e7-464a-a10b-771c25df6310",
   "metadata": {},
   "outputs": [],
   "source": []
  }
 ],
 "metadata": {
  "kernelspec": {
   "display_name": "Python 3 (ipykernel)",
   "language": "python",
   "name": "python3"
  },
  "language_info": {
   "codemirror_mode": {
    "name": "ipython",
    "version": 3
   },
   "file_extension": ".py",
   "mimetype": "text/x-python",
   "name": "python",
   "nbconvert_exporter": "python",
   "pygments_lexer": "ipython3",
   "version": "3.11.7"
  }
 },
 "nbformat": 4,
 "nbformat_minor": 5
}
