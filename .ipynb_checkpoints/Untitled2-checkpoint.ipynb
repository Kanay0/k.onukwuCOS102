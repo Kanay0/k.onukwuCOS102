{
 "cells": [
  {
   "cell_type": "code",
   "execution_count": 1,
   "id": "041de54d-25dd-45e5-a5b4-0e3767c2ab01",
   "metadata": {},
   "outputs": [
    {
     "name": "stdout",
     "output_type": "stream",
     "text": [
      "Three digit number\n"
     ]
    }
   ],
   "source": [
    "num = 100\n",
    "\n",
    "if 9 < num < 99:\n",
    "    print(\"Two digit number\")\n",
    "elif 99 < num < 999:\n",
    "    print(\"Three digit number\")\n",
    "elif 999 < num < 9999:\n",
    "    print(\"Four digit number\")\n",
    "else:\n",
    "      print(\"number is <=9 or >= 9999\")"
   ]
  },
  {
   "cell_type": "code",
   "execution_count": null,
   "id": "afe81194-c866-4095-83a9-34f138d326f9",
   "metadata": {},
   "outputs": [],
   "source": []
  }
 ],
 "metadata": {
  "kernelspec": {
   "display_name": "Python 3 (ipykernel)",
   "language": "python",
   "name": "python3"
  },
  "language_info": {
   "codemirror_mode": {
    "name": "ipython",
    "version": 3
   },
   "file_extension": ".py",
   "mimetype": "text/x-python",
   "name": "python",
   "nbconvert_exporter": "python",
   "pygments_lexer": "ipython3",
   "version": "3.11.7"
  }
 },
 "nbformat": 4,
 "nbformat_minor": 5
}
