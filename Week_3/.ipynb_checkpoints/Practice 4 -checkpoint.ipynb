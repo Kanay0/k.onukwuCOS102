{
 "cells": [
  {
   "cell_type": "code",
   "execution_count": 2,
   "id": "cad97d7c-73e7-4944-afb3-d9b1de72622c",
   "metadata": {},
   "outputs": [
    {
     "name": "stdout",
     "output_type": "stream",
     "text": [
      "('Ekiti', 750, 'Oshogbo', 250, 'Akure', 500)\n",
      "500\n",
      "('Oshogbo', 250)\n",
      "(250, 'Akure', 500)\n",
      "('Abekouta', 300, 'Osbomoso', 'Abekouta', 300, 'Osbomoso', 'Abekouta', 300, 'Osbomoso')\n",
      "('Ekiti', 750, 'Oshogbo', 250, 'Akure', 500, 'Abekouta', 300, 'Osbomoso')\n"
     ]
    }
   ],
   "source": [
    "tuple = (\"Ekiti\", 750, 'Oshogbo',250,\"Akure\", 500)\n",
    "s_tuple = (\"Abekouta\", 300, \"Osbomoso\")\n",
    "\n",
    "# Prints the complete tuple \n",
    "print (tuple)\n",
    "\n",
    "# Prints last element of the tuple \n",
    "print (tuple[-1])\n",
    "\n",
    "# Prints elements of the tuple starting from 2nd till 3rd \n",
    "print (tuple[2:4])\n",
    "\n",
    "# Prints elements of the tuple starting from 3rd element \n",
    "print (tuple[3:])\n",
    "\n",
    "# Prints the contents of the tuple twice \n",
    "print (s_tuple * 3)\n",
    "\n",
    "# Prints concatenated tuples \n",
    "print (tuple + s_tuple)"
   ]
  },
  {
   "cell_type": "code",
   "execution_count": null,
   "id": "22651710-3679-4ee3-aa41-8bd296ec7ba2",
   "metadata": {},
   "outputs": [],
   "source": []
  }
 ],
 "metadata": {
  "kernelspec": {
   "display_name": "Python 3 (ipykernel)",
   "language": "python",
   "name": "python3"
  },
  "language_info": {
   "codemirror_mode": {
    "name": "ipython",
    "version": 3
   },
   "file_extension": ".py",
   "mimetype": "text/x-python",
   "name": "python",
   "nbconvert_exporter": "python",
   "pygments_lexer": "ipython3",
   "version": "3.11.7"
  }
 },
 "nbformat": 4,
 "nbformat_minor": 5
}
