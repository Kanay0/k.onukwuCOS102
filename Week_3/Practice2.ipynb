{
 "cells": [
  {
   "cell_type": "code",
   "execution_count": 2,
   "id": "18b00c53-e267-4e0a-b326-facb1f4f56a4",
   "metadata": {},
   "outputs": [
    {
     "name": "stdin",
     "output_type": "stream",
     "text": [
      "Enter mass in kilograms:  20\n"
     ]
    },
    {
     "name": "stdout",
     "output_type": "stream",
     "text": [
      "The energy equivalent to 20.0kg of mass is 1.7975103574736353e+18 joules.\n"
     ]
    }
   ],
   "source": [
    "# Input from user \n",
    "m = float(input(\"Enter mass in kilograms: \"))\n",
    "\n",
    "# Constant value for the speed of light in m/s \n",
    "c = 299792458\n",
    "\n",
    "# Calculating energy using Einstein's Equation \n",
    "energy = m * c ** 2\n",
    "\n",
    "# Displaying the result \n",
    "print(\"The energy equivalent to {m}kg of mass is {energy} joules.\")"
   ]
  },
  {
   "cell_type": "code",
   "execution_count": null,
   "id": "1a58f484-8728-4c09-b985-a75922671926",
   "metadata": {},
   "outputs": [],
   "source": []
  }
 ],
 "metadata": {
  "kernelspec": {
   "display_name": "Python 3 (ipykernel)",
   "language": "python",
   "name": "python3"
  },
  "language_info": {
   "codemirror_mode": {
    "name": "ipython",
    "version": 3
   },
   "file_extension": ".py",
   "mimetype": "text/x-python",
   "name": "python",
   "nbconvert_exporter": "python",
   "pygments_lexer": "ipython3",
   "version": "3.11.7"
  }
 },
 "nbformat": 4,
 "nbformat_minor": 5
}
