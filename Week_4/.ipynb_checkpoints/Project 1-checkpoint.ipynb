{
 "cells": [
  {
   "cell_type": "code",
   "execution_count": null,
   "id": "4fe11d19-a08f-4c21-b0cd-9ddedacb68ba",
   "metadata": {},
   "outputs": [],
   "source": [
    "# Progrm To Display The Data Of The Students In A School \n",
    "\n",
    "print(\"Welcome The Students Archive Of The School\")\n",
    "\n",
    "gnames = {'Evelyn |': '17 | 5.5 | 80 ','Jessica | ': '16 | 6.0 | 85 ','Somto | ': '17 | 5.4 | 70' ,'Edith | ': '18 | 5.9 | 60','Liza': '16 | 5.6 | 76','Madonna |': '18 | 5.5 | 66 ' ,'Waje |': '17| 6.1 | 87','Tola | ': '20 | 6.0 | 95','Aisha | ' : '19 | 5.7  | 50 ','Latifa | ':  '17 | 5.5 | 49'}\n"
   ]
  }
 ],
 "metadata": {
  "kernelspec": {
   "display_name": "Python 3 (ipykernel)",
   "language": "python",
   "name": "python3"
  },
  "language_info": {
   "codemirror_mode": {
    "name": "ipython",
    "version": 3
   },
   "file_extension": ".py",
   "mimetype": "text/x-python",
   "name": "python",
   "nbconvert_exporter": "python",
   "pygments_lexer": "ipython3",
   "version": "3.11.7"
  }
 },
 "nbformat": 4,
 "nbformat_minor": 5
}
