{
 "cells": [
  {
   "cell_type": "code",
   "execution_count": 3,
   "id": "3db9e3b6-c89d-4a44-b903-1e93a81c630c",
   "metadata": {},
   "outputs": [],
   "source": [
    "import tkinter as tk \n",
    "from tkinter import messagebox \n",
    "from PIL import Image, ImageTk\n",
    "\n",
    "def welcomeMessage(username):\n",
    "    # Create a Tkinter Window \n",
    "    window = tk.Toplevel(root)\n",
    "    window.title(\"Admin Box\")\n",
    "    window.geometry(\"500x200\")\n",
    "\n",
    "    label_1 = tk.Label(window, text=f\"Welcome {username}\\n\")\n",
    "    label_1.pack()\n",
    "    label_2 = tk.Label(window, text=\"This is Python GUI with Tkinter\")\n",
    "    label_2.pack()\n",
    "\n",
    "    # Run the Tkinter event loop \n",
    "    root.mainloop()\n",
    "\n",
    "def submit():\n",
    "    username = username_entry.get()\n",
    "    username = password_entry.get()\n",
    "\n",
    "    if username == \"Mary\"  and  password == \"cos102\":\n",
    "         welcomeMessage(username)\n",
    "    else:\n",
    "         messagebox.showerror(\"Login\",  \"Invalid username or password\")\n",
    "\n",
    "# Create main window \n",
    "root = tk.Tk()\n",
    "root.title(\"Login Form\")\n",
    "root.geometry(\"500x200\")\n",
    "\n",
    "# Create username label and entry \n",
    "username_label = tk.Label(root,  text=\"Username\")\n",
    "username_label.pack()\n",
    "username_entry = tk.Entry(root)\n",
    "username_entry.pack()\n",
    "\n",
    "# Create password label and entry \n",
    "password_label = tk.Label(root, text=\"Password:\")\n",
    "password_label.pack()\n",
    "password_entry = tk.Entry(root,  show=\"*\")\n",
    "password_entry.pack()\n",
    "\n",
    "# Create Submit button \n",
    "submit_button = tk.Button(root, text=\"Submit\", command=submit)\n",
    "submit_button.pack()\n",
    "\n",
    "# Run the main event \n",
    "root.mainloop()\n"
   ]
  },
  {
   "cell_type": "code",
   "execution_count": null,
   "id": "95ab6be0-c25f-4d1a-8a02-0a15618a488c",
   "metadata": {},
   "outputs": [],
   "source": []
  },
  {
   "cell_type": "code",
   "execution_count": null,
   "id": "e11d7d11-2cd3-4291-aa80-7fd5599e63d9",
   "metadata": {},
   "outputs": [],
   "source": []
  }
 ],
 "metadata": {
  "kernelspec": {
   "display_name": "Python 3 (ipykernel)",
   "language": "python",
   "name": "python3"
  },
  "language_info": {
   "codemirror_mode": {
    "name": "ipython",
    "version": 3
   },
   "file_extension": ".py",
   "mimetype": "text/x-python",
   "name": "python",
   "nbconvert_exporter": "python",
   "pygments_lexer": "ipython3",
   "version": "3.11.7"
  }
 },
 "nbformat": 4,
 "nbformat_minor": 5
}
