{
 "cells": [
  {
   "cell_type": "code",
   "execution_count": 1,
   "id": "b8b9808c-9180-4e5d-a615-c1c202e85b38",
   "metadata": {},
   "outputs": [
    {
     "name": "stdout",
     "output_type": "stream",
     "text": [
      "Name:  miki\n",
      "Age:   50\n"
     ]
    }
   ],
   "source": [
    "def printinfo( name, age ):\n",
    "    # Test function \n",
    "    print (\"Name: \",name);\n",
    "    print (\"Age:  \",age);\n",
    "    return;\n",
    "printinfo( age=50, name=\"miki\" );"
   ]
  },
  {
   "cell_type": "code",
   "execution_count": null,
   "id": "b713507b-9a43-41c4-bf14-c144c02637e8",
   "metadata": {},
   "outputs": [],
   "source": []
  }
 ],
 "metadata": {
  "kernelspec": {
   "display_name": "Python 3 (ipykernel)",
   "language": "python",
   "name": "python3"
  },
  "language_info": {
   "codemirror_mode": {
    "name": "ipython",
    "version": 3
   },
   "file_extension": ".py",
   "mimetype": "text/x-python",
   "name": "python",
   "nbconvert_exporter": "python",
   "pygments_lexer": "ipython3",
   "version": "3.11.7"
  }
 },
 "nbformat": 4,
 "nbformat_minor": 5
}
