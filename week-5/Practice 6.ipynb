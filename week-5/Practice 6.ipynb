{
 "cells": [
  {
   "cell_type": "code",
   "execution_count": 1,
   "id": "1214473a-81af-4096-9a81-e74fe3e37d85",
   "metadata": {},
   "outputs": [
    {
     "name": "stdout",
     "output_type": "stream",
     "text": [
      "Name:  miki\n",
      "Age:   50\n",
      "Name:  miki\n",
      "Age:   35\n"
     ]
    }
   ],
   "source": [
    "def printinfo( name, age = 35 ):\n",
    "    # Test function \n",
    "    print (\"Name: \", name);\n",
    "    print (\"Age:  \", age);\n",
    "    return;\n",
    "printinfo( age=50, name=\"miki\" );\n",
    "printinfo( name=\"miki\" );\n"
   ]
  },
  {
   "cell_type": "code",
   "execution_count": null,
   "id": "efcd5981-2083-4296-aba7-2cc65b91a190",
   "metadata": {},
   "outputs": [],
   "source": []
  }
 ],
 "metadata": {
  "kernelspec": {
   "display_name": "Python 3 (ipykernel)",
   "language": "python",
   "name": "python3"
  },
  "language_info": {
   "codemirror_mode": {
    "name": "ipython",
    "version": 3
   },
   "file_extension": ".py",
   "mimetype": "text/x-python",
   "name": "python",
   "nbconvert_exporter": "python",
   "pygments_lexer": "ipython3",
   "version": "3.11.7"
  }
 },
 "nbformat": 4,
 "nbformat_minor": 5
}
