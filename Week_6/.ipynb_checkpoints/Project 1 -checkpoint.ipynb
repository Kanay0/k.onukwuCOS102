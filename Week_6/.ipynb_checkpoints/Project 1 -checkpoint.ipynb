{
 "cells": [
  {
   "cell_type": "code",
   "execution_count": 2,
   "id": "9a3019f3-6162-4bcc-a04c-539662697414",
   "metadata": {},
   "outputs": [],
   "source": [
    "import tkinter as tk\n",
    "from tkinter import messagebox\n",
    "\n",
    "def calculate_charge():\n",
    "    location = location_entry.get()\n",
    "    weight = float(weight_entry.get())\n",
    "    charge = 0\n",
    "\n",
    "    if location == \"Ibeju-Lekki\":\n",
    "        if weight >= 10:\n",
    "            charge = 5000\n",
    "        else:\n",
    "            charge = 3500\n",
    "    elif location == \"Epe\":\n",
    "        if weight >= 10:\n",
    "            charge = 10000\n",
    "        else:\n",
    "            charge = 5000\n",
    "\n",
    "    messagebox.showinfo(\"Delivery Charge\", f\"The delivery charge is N{charge}\")\n",
    "\n",
    "root = tk.Tk()\n",
    "root.title(\"Simi Services Delivery Charge Calculator\")\n",
    "\n",
    "tk.Label(root, text=\"Location:\").grid(row=0)\n",
    "tk.Label(root, text=\"Weight (kg):\").grid(row=1)\n",
    "\n",
    "location_entry = tk.Entry(root)\n",
    "weight_entry = tk.Entry(root)\n",
    "\n",
    "location_entry.grid(row=0, column=1)\n",
    "weight_entry.grid(row=1, column=1)\n",
    "\n",
    "tk.Button(root, text='Calculate', command=calculate_charge).grid(row=2, column=1, pady=4)\n",
    "\n",
    "root.mainloop()\n"
   ]
  }
 ],
 "metadata": {
  "kernelspec": {
   "display_name": "Python 3 (ipykernel)",
   "language": "python",
   "name": "python3"
  },
  "language_info": {
   "codemirror_mode": {
    "name": "ipython",
    "version": 3
   },
   "file_extension": ".py",
   "mimetype": "text/x-python",
   "name": "python",
   "nbconvert_exporter": "python",
   "pygments_lexer": "ipython3",
   "version": "3.11.7"
  }
 },
 "nbformat": 4,
 "nbformat_minor": 5
}
