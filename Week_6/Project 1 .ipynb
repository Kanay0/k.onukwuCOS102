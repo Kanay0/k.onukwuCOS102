{
 "cells": [
  {
   "cell_type": "code",
   "execution_count": 1,
   "id": "9a3019f3-6162-4bcc-a04c-539662697414",
   "metadata": {},
   "outputs": [],
   "source": [
    "# Listening To DARKSIDE ~ NEONI \n",
    "# PROGRAM TO CALCULATE THE CHARGE OF THE FROM THE DELIVERY\n",
    "import tkinter as tk\n",
    "from tkinter import messagebox\n",
    "# Creating A Function For The Calculation Of The Charge\n",
    "def calculate_charge():\n",
    "    location = location_entry.get()\n",
    "    weight = float(weight_entry.get())\n",
    "    charge = 0 \n",
    "    \n",
    "    if location == \"Ibeju-Lekki\":\n",
    "        if weight >= 10:\n",
    "            charge = 5000\n",
    "        else:\n",
    "            charge = 3500\n",
    "    elif location == \"Epe\":\n",
    "        if weight >= 10:\n",
    "            charge = 10000\n",
    "        else:\n",
    "            charge = 5000\n",
    "\n",
    "    messagebox.showinfo(\"Delivery Charge\", f\"The delivery charge is N{charge}\")\n",
    "\n",
    "root = tk.Tk()\n",
    "root.title(\"Simi Services Delivery Charge Calculator\")\n",
    "\n",
    "tk.Label(root, text=\"Location:\").grid(row=0)\n",
    "tk.Label(root, text=\"Weight (kg):\").grid(row=1)\n",
    "\n",
    "location_entry = tk.Entry(root)\n",
    "weight_entry = tk.Entry(root)\n",
    "\n",
    "location_entry.grid(row=0, column=1)\n",
    "weight_entry.grid(row=1, column=1)\n",
    "\n",
    "tk.Button(root, text='Calculate', command=calculate_charge).grid(row=2, column=1, pady=4)\n",
    "\n",
    "root.mainloop()\n"
   ]
  },
  {
   "cell_type": "code",
   "execution_count": null,
   "id": "44fefd37-3cf9-4bf4-b029-fbc06c6db48c",
   "metadata": {},
   "outputs": [],
   "source": []
  },
  {
   "cell_type": "code",
   "execution_count": null,
   "id": "32a169d1-faaf-41d9-ae04-25200aa9561d",
   "metadata": {},
   "outputs": [],
   "source": []
  },
  {
   "cell_type": "code",
   "execution_count": null,
   "id": "b6fea7f3-9847-45fd-adce-bd6ae5e36eb2",
   "metadata": {},
   "outputs": [],
   "source": []
  }
 ],
 "metadata": {
  "kernelspec": {
   "display_name": "Python 3 (ipykernel)",
   "language": "python",
   "name": "python3"
  },
  "language_info": {
   "codemirror_mode": {
    "name": "ipython",
    "version": 3
   },
   "file_extension": ".py",
   "mimetype": "text/x-python",
   "name": "python",
   "nbconvert_exporter": "python",
   "pygments_lexer": "ipython3",
   "version": "3.11.7"
  }
 },
 "nbformat": 4,
 "nbformat_minor": 5
}
