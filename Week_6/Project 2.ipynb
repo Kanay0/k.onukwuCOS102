{
 "cells": [
  {
   "cell_type": "code",
   "execution_count": null,
   "id": "6396aa5f-8949-44b7-a52f-2958df889f98",
   "metadata": {},
   "outputs": [
    {
     "name": "stdin",
     "output_type": "stream",
     "text": [
      "Enter your name (or 'quit' to stop):  Onukwu Kanayochukwu\n",
      "Enter your JAMB score:  270\n",
      "Enter your number of credits:  5\n",
      "Did you pass the interview (yes/no)?  yes\n"
     ]
    },
    {
     "name": "stdout",
     "output_type": "stream",
     "text": [
      "Congratulations Onukwu Kanayochukwu, you have been admitted into the Computer Science Department.\n"
     ]
    }
   ],
   "source": [
    "def admission_process():\n",
    "    admitted = []\n",
    "    not_admitted = []\n",
    "\n",
    "    while True:\n",
    "        name = input(\"Enter your name (or 'quit' to stop): \")\n",
    "        if name.lower() == 'quit':\n",
    "            break\n",
    "\n",
    "        jamb_score = int(input(\"Enter your JAMB score: \"))\n",
    "        credits = int(input(\"Enter your number of credits: \"))\n",
    "        interview = input(\"Did you pass the interview (yes/no)? \")\n",
    "\n",
    "        if jamb_score >= 250 and credits >= 5 and interview.lower() == 'yes':\n",
    "            admitted.append(name)\n",
    "            print(f\"Congratulations {name}, you have been admitted into the Computer Science Department.\")\n",
    "        else:\n",
    "            not_admitted.append(name)\n",
    "            print(f\"Sorry {name}, you have not been admitted into the Computer Science Department.\")\n",
    "\n",
    "    print(\"\\nAdmitted Candidates:\", admitted)\n",
    "    print(\"Not Admitted Candidates:\", not_admitted)\n",
    "\n",
    "admission_process()\n"
   ]
  },
  {
   "cell_type": "code",
   "execution_count": null,
   "id": "acfbc456-2c34-4dd5-b164-37e23ead1c2a",
   "metadata": {},
   "outputs": [],
   "source": []
  }
 ],
 "metadata": {
  "kernelspec": {
   "display_name": "Python 3 (ipykernel)",
   "language": "python",
   "name": "python3"
  },
  "language_info": {
   "codemirror_mode": {
    "name": "ipython",
    "version": 3
   },
   "file_extension": ".py",
   "mimetype": "text/x-python",
   "name": "python",
   "nbconvert_exporter": "python",
   "pygments_lexer": "ipython3",
   "version": "3.11.7"
  }
 },
 "nbformat": 4,
 "nbformat_minor": 5
}
